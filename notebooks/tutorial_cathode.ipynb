{
 "cells": [
  {
   "cell_type": "markdown",
   "id": "8d7efa92",
   "metadata": {},
   "source": [
    "Redox flow battery setup using `rfbmodel`"
   ]
  },
  {
   "cell_type": "code",
   "execution_count": 1,
   "id": "449d57d9",
   "metadata": {},
   "outputs": [
    {
     "name": "stdout",
     "output_type": "stream",
     "text": [
      "Processing /home/felipe/RFBmodel\n",
      "  Preparing metadata (setup.py) ... \u001b[?25ldone\n",
      "\u001b[?25hBuilding wheels for collected packages: rfbmodel\n",
      "  Building wheel for rfbmodel (setup.py) ... \u001b[?25ldone\n",
      "\u001b[?25h  Created wheel for rfbmodel: filename=rfbmodel-0.1-py3-none-any.whl size=4894 sha256=6b955ed6f8c7186ab4fff0e00c5df6e6af3964de37808273dd5cce89014618ed\n",
      "  Stored in directory: /tmp/pip-ephem-wheel-cache-6663opj4/wheels/6a/1c/83/b097e7bf56968011155628f5cfd258228eb3063527ce49cc00\n",
      "Successfully built rfbmodel\n",
      "Installing collected packages: rfbmodel\n",
      "  Attempting uninstall: rfbmodel\n",
      "    Found existing installation: rfbmodel 0.1\n",
      "    Uninstalling rfbmodel-0.1:\n",
      "      Successfully uninstalled rfbmodel-0.1\n",
      "Successfully installed rfbmodel-0.1\n"
     ]
    }
   ],
   "source": [
    "# Change for your directory \n",
    "# Remember to pip install . after each change from the\n",
    "# rfbmodel directory\n",
    "!pip install /home/felipe/RFBmodel/ \n"
   ]
  },
  {
   "cell_type": "markdown",
   "id": "6e984a9f",
   "metadata": {},
   "source": [
    "It is always advisable to check the code in a script before converting it into a class. For example, we will test the `conc` function from the cathode."
   ]
  },
  {
   "cell_type": "markdown",
   "id": "b25ada8b",
   "metadata": {},
   "source": [
    "Suggestion: use SciPy to solve the non linear system\n",
    "\n",
    "$$ f(\\vec{c}) = \\vec{b}$$\n",
    "\n",
    "Now this is implemented in the cathode class"
   ]
  },
  {
   "cell_type": "code",
   "execution_count": 2,
   "id": "e6efd1b5",
   "metadata": {},
   "outputs": [],
   "source": [
    "from rfbmodel.cathodes import Cathode"
   ]
  },
  {
   "cell_type": "code",
   "execution_count": 3,
   "id": "af37d7ee",
   "metadata": {},
   "outputs": [
    {
     "name": "stdout",
     "output_type": "stream",
     "text": [
      "c_guess =  [1.   1.   1.   1.   2.   0.01]\n",
      "c =  [ 0.515       0.515      10.6090756   8.36802351  1.89302604  0.44499746]\n"
     ]
    }
   ],
   "source": [
    "# Construct a cathode\n",
    "cath = Cathode()\n",
    "\n",
    "# Print initial guess\n",
    "print(\"c_guess = \", cath.c)\n",
    "\n",
    "# Solve system of equations\n",
    "cath.conc()\n",
    "\n",
    "# Print solution\n",
    "print(\"c = \", cath.c)"
   ]
  }
 ],
 "metadata": {
  "kernelspec": {
   "display_name": "cryoenv",
   "language": "python",
   "name": "python3"
  },
  "language_info": {
   "codemirror_mode": {
    "name": "ipython",
    "version": 3
   },
   "file_extension": ".py",
   "mimetype": "text/x-python",
   "name": "python",
   "nbconvert_exporter": "python",
   "pygments_lexer": "ipython3",
   "version": "3.10.4"
  }
 },
 "nbformat": 4,
 "nbformat_minor": 5
}
