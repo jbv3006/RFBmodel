{
 "cells": [
  {
   "cell_type": "markdown",
   "id": "8d7efa92",
   "metadata": {},
   "source": [
    "Redox flow battery setup using `rfbmodel`"
   ]
  },
  {
   "cell_type": "code",
   "execution_count": 1,
   "id": "449d57d9",
   "metadata": {},
   "outputs": [
    {
     "name": "stdout",
     "output_type": "stream",
     "text": [
      "Processing c:\\users\\jbvba\\rfbmodelpc\\rfbmodel\n",
      "  Preparing metadata (setup.py): started\n",
      "  Preparing metadata (setup.py): finished with status 'done'\n",
      "Building wheels for collected packages: rfbmodel\n",
      "  Building wheel for rfbmodel (setup.py): started\n",
      "  Building wheel for rfbmodel (setup.py): finished with status 'done'\n",
      "  Created wheel for rfbmodel: filename=rfbmodel-0.1-py3-none-any.whl size=6465 sha256=0c0ba0112c673b12cd5248793dfb0ad37c972c66a4df7592f3bccd96b22be886\n",
      "  Stored in directory: C:\\Users\\jbvba\\AppData\\Local\\Temp\\pip-ephem-wheel-cache-s6qd2fnn\\wheels\\f5\\e2\\e6\\adaf62f013c25d2ed8d5494892f41e9f9fab1d4b2646ed6396\n",
      "Successfully built rfbmodel\n",
      "Installing collected packages: rfbmodel\n",
      "  Attempting uninstall: rfbmodel\n",
      "    Found existing installation: rfbmodel 0.1\n",
      "    Uninstalling rfbmodel-0.1:\n",
      "      Successfully uninstalled rfbmodel-0.1\n",
      "Successfully installed rfbmodel-0.1\n"
     ]
    },
    {
     "name": "stderr",
     "output_type": "stream",
     "text": [
      "  DEPRECATION: Building 'rfbmodel' using the legacy setup.py bdist_wheel mechanism, which will be removed in a future version. pip 25.3 will enforce this behaviour change. A possible replacement is to use the standardized build interface by setting the `--use-pep517` option, (possibly combined with `--no-build-isolation`), or adding a `pyproject.toml` file to the source tree of 'rfbmodel'. Discussion can be found at https://github.com/pypa/pip/issues/6334\n"
     ]
    }
   ],
   "source": [
    "# Change for your directory \n",
    "# Remember to pip install . after each change from the\n",
    "# rfbmodel directory\n",
    "#!pip install /home/felipe/RFBmodel/ \n",
    "!pip install \"C:/Users/jbvba/RFBmodelPC/RFBmodel\"\n"
   ]
  },
  {
   "cell_type": "markdown",
   "id": "6e984a9f",
   "metadata": {},
   "source": [
    "It is always advisable to check the code in a script before converting it into a class. For example, we will test the `conc` function from the cathode."
   ]
  },
  {
   "cell_type": "markdown",
   "id": "b25ada8b",
   "metadata": {},
   "source": [
    "Suggestion: use SciPy to solve the non linear system\n",
    "\n",
    "$$ f(\\vec{c}) = \\vec{b}$$\n",
    "\n",
    "Now this is implemented in the cathode class"
   ]
  },
  {
   "cell_type": "code",
   "execution_count": 2,
   "id": "e6efd1b5",
   "metadata": {},
   "outputs": [],
   "source": [
    "from rfbmodel.cathodes import Cathode\n",
    "from rfbmodel.agdl import AGDL\n",
    "from rfbmodel.data import conductivity_funcV5, conductivity_funcV4"
   ]
  },
  {
   "cell_type": "code",
   "execution_count": null,
   "id": "af37d7ee",
   "metadata": {},
   "outputs": [
    {
     "name": "stdout",
     "output_type": "stream",
     "text": [
      "c_guess =  [1.   1.   1.   1.   2.   0.01]\n",
      "c =  [ 1.03000000e+00 -1.07292877e-10  1.02985342e+01  8.42961216e+00\n",
      "  1.96446103e+00  4.35151124e-01]\n"
     ]
    }
   ],
   "source": [
    "#Define design parameters for cathode\n",
    "\n",
    "cath_thickness = 50/1000 #Cathode thickness [m]\n",
    "cath_conductivity = 4400 #Conductivity of the cathode / sigma [S m^-1]\n",
    "cath_porosity = 0.94 #Cathode porosity (void fraction)\n",
    "\n",
    "# Construct a cathode\n",
    "cath = Cathode(cath_thickness, cath_conductivity, cath_porosity)\n",
    "\n",
    "# Print initial guess\n",
    "print(\"c_guess = \", cath.c)\n",
    "\n",
    "# Solve system of equations\n",
    "cath.conc()\n",
    "\n",
    "# Print solution\n",
    "print(\"c = \", cath.c)\n",
    "\n"
   ]
  },
  {
   "cell_type": "code",
   "execution_count": 4,
   "id": "e411d109",
   "metadata": {},
   "outputs": [
    {
     "name": "stdout",
     "output_type": "stream",
     "text": [
      "resistance of cathode =  0.0007731975198179214 Ωm2\n",
      "resistance of catholyte =  0.0014439487366181896 Ωm2\n",
      "Total resistance of cathode and catholyte =  0.0005035561270062641 Ωm2\n"
     ]
    }
   ],
   "source": [
    "cath.ionic_resistance()\n",
    "cath.cathode_resistance()\n",
    "cath.total_resistance()\n",
    "\n",
    "# Print solution\n",
    "print(\"resistance of cathode = \", cath.cath_resistance, \"Ωm2\")\n",
    "print(\"resistance of catholyte = \", cath.io_resistance, \"Ωm2\")\n",
    "print(\"Total resistance of cathode and catholyte = \", cath.resistance, \"Ωm2\")\n"
   ]
  },
  {
   "cell_type": "markdown",
   "id": "c50afab7",
   "metadata": {},
   "source": [
    "AGDL Class"
   ]
  },
  {
   "cell_type": "code",
   "execution_count": 5,
   "id": "825dc052",
   "metadata": {},
   "outputs": [
    {
     "name": "stdout",
     "output_type": "stream",
     "text": [
      "AGDL Resistance 4.972409010471659e-09 Ωm2\n"
     ]
    }
   ],
   "source": [
    "# Construct a Anode Gas Diffusion Layer\n",
    "agdl = AGDL()\n",
    "\n",
    "# Calculate AGDL resistance\n",
    "agdl.calculate_resistance()\n",
    "\n",
    "# Print solution\n",
    "print(\"AGDL Resistance\", agdl.resistance, \"Ωm2\")"
   ]
  },
  {
   "cell_type": "markdown",
   "id": "8db78b68",
   "metadata": {},
   "source": [
    "ACL Class"
   ]
  },
  {
   "cell_type": "code",
   "execution_count": 8,
   "id": "f241b181",
   "metadata": {},
   "outputs": [
    {
     "ename": "NameError",
     "evalue": "name 'ACL' is not defined",
     "output_type": "error",
     "traceback": [
      "\u001b[1;31m---------------------------------------------------------------------------\u001b[0m",
      "\u001b[1;31mNameError\u001b[0m                                 Traceback (most recent call last)",
      "Cell \u001b[1;32mIn [8], line 2\u001b[0m\n\u001b[0;32m      1\u001b[0m \u001b[38;5;66;03m# Construct a Anode Catalyst Layer\u001b[39;00m\n\u001b[1;32m----> 2\u001b[0m acl \u001b[38;5;241m=\u001b[39m \u001b[43mACL\u001b[49m()\n\u001b[0;32m      4\u001b[0m \u001b[38;5;66;03m# Calculate ACL resistance\u001b[39;00m\n\u001b[0;32m      5\u001b[0m acl\u001b[38;5;241m.\u001b[39mcalculate_resistance()\n",
      "\u001b[1;31mNameError\u001b[0m: name 'ACL' is not defined"
     ]
    }
   ],
   "source": [
    "# Construct a Anode Catalyst Layer\n",
    "acl = ACL()\n",
    "\n",
    "# Calculate ACL resistance\n",
    "acl.calculate_resistance()\n",
    "\n",
    "# Print solution\n",
    "print(\"ACL Resistance\", agdl.resistance, \"Ωm2\")"
   ]
  }
 ],
 "metadata": {
  "kernelspec": {
   "display_name": "rfbmodel-env",
   "language": "python",
   "name": "python3"
  },
  "language_info": {
   "codemirror_mode": {
    "name": "ipython",
    "version": 3
   },
   "file_extension": ".py",
   "mimetype": "text/x-python",
   "name": "python",
   "nbconvert_exporter": "python",
   "pygments_lexer": "ipython3",
   "version": "3.10.16"
  }
 },
 "nbformat": 4,
 "nbformat_minor": 5
}
