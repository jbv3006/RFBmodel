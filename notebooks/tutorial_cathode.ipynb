{
 "cells": [
  {
   "cell_type": "markdown",
   "id": "8d7efa92",
   "metadata": {},
   "source": [
    "Redox flow battery setup using `rfbmodel`"
   ]
  },
  {
   "cell_type": "code",
   "execution_count": 31,
   "id": "449d57d9",
   "metadata": {},
   "outputs": [
    {
     "name": "stdout",
     "output_type": "stream",
     "text": [
      "Processing c:\\users\\jbvba\\rfbmodelpc\\rfbmodel\n",
      "  Preparing metadata (setup.py): started\n",
      "  Preparing metadata (setup.py): finished with status 'done'\n",
      "Building wheels for collected packages: rfbmodel\n",
      "  Building wheel for rfbmodel (setup.py): started\n",
      "  Building wheel for rfbmodel (setup.py): finished with status 'done'\n",
      "  Created wheel for rfbmodel: filename=rfbmodel-0.1-py3-none-any.whl size=5865 sha256=eec615d50f1c09b4a4444564574fe0b9ab626a5de2797623d64f755363406e05\n",
      "  Stored in directory: C:\\Users\\jbvba\\AppData\\Local\\Temp\\pip-ephem-wheel-cache-32x7cutt\\wheels\\f5\\e2\\e6\\adaf62f013c25d2ed8d5494892f41e9f9fab1d4b2646ed6396\n",
      "Successfully built rfbmodel\n",
      "Installing collected packages: rfbmodel\n",
      "  Attempting uninstall: rfbmodel\n",
      "    Found existing installation: rfbmodel 0.1\n",
      "    Uninstalling rfbmodel-0.1:\n",
      "      Successfully uninstalled rfbmodel-0.1\n",
      "Successfully installed rfbmodel-0.1\n"
     ]
    },
    {
     "name": "stderr",
     "output_type": "stream",
     "text": [
      "  DEPRECATION: Building 'rfbmodel' using the legacy setup.py bdist_wheel mechanism, which will be removed in a future version. pip 25.3 will enforce this behaviour change. A possible replacement is to use the standardized build interface by setting the `--use-pep517` option, (possibly combined with `--no-build-isolation`), or adding a `pyproject.toml` file to the source tree of 'rfbmodel'. Discussion can be found at https://github.com/pypa/pip/issues/6334\n"
     ]
    }
   ],
   "source": [
    "# Change for your directory \n",
    "# Remember to pip install . after each change from the\n",
    "# rfbmodel directory\n",
    "#!pip install /home/felipe/RFBmodel/ \n",
    "!pip install \"C:/Users/jbvba/RFBmodelPC/RFBmodel\"\n"
   ]
  },
  {
   "cell_type": "markdown",
   "id": "6e984a9f",
   "metadata": {},
   "source": [
    "It is always advisable to check the code in a script before converting it into a class. For example, we will test the `conc` function from the cathode."
   ]
  },
  {
   "cell_type": "markdown",
   "id": "b25ada8b",
   "metadata": {},
   "source": [
    "Suggestion: use SciPy to solve the non linear system\n",
    "\n",
    "$$ f(\\vec{c}) = \\vec{b}$$\n",
    "\n",
    "Now this is implemented in the cathode class"
   ]
  },
  {
   "cell_type": "code",
   "execution_count": 32,
   "id": "e6efd1b5",
   "metadata": {},
   "outputs": [],
   "source": [
    "from rfbmodel.cathodes import Cathode\n",
    "from rfbmodel.data import conductivity_funcV5, conductivity_funcV4"
   ]
  },
  {
   "cell_type": "code",
   "execution_count": 33,
   "id": "af37d7ee",
   "metadata": {},
   "outputs": [
    {
     "name": "stdout",
     "output_type": "stream",
     "text": [
      "c_guess =  [1.   1.   1.   1.   2.   0.01]\n",
      "c =  [ 0.515       0.515      10.6090756   8.36802351  1.89302604  0.44499746]\n"
     ]
    }
   ],
   "source": [
    "# Construct a cathode\n",
    "cath = Cathode()\n",
    "\n",
    "# Print initial guess\n",
    "print(\"c_guess = \", cath.c)\n",
    "\n",
    "# Solve system of equations\n",
    "cath.conc()\n",
    "\n",
    "# Print solution\n",
    "print(\"c = \", cath.c)"
   ]
  },
  {
   "cell_type": "code",
   "execution_count": 34,
   "id": "0dd232bb",
   "metadata": {},
   "outputs": [
    {
     "name": "stdout",
     "output_type": "stream",
     "text": [
      "Unexpected exception formatting exception. Falling back to standard exception\n"
     ]
    },
    {
     "name": "stderr",
     "output_type": "stream",
     "text": [
      "Traceback (most recent call last):\n",
      "  File \"C:\\Users\\jbvba\\AppData\\Roaming\\Python\\Python310\\site-packages\\IPython\\core\\interactiveshell.py\", line 3433, in run_code\n",
      "    exec(code_obj, self.user_global_ns, self.user_ns)\n",
      "  File \"C:\\Users\\jbvba\\AppData\\Local\\Temp\\ipykernel_36512\\2527203105.py\", line 1, in <module>\n",
      "    cath.cath_resistance()\n",
      "  File \"c:\\Users\\jbvba\\miniconda3\\envs\\rfbmodel-env\\lib\\site-packages\\rfbmodel\\cathodes\\cathode.py\", line 60, in cath_resistance\n",
      "NameError: name 'c' is not defined\n",
      "\n",
      "During handling of the above exception, another exception occurred:\n",
      "\n",
      "Traceback (most recent call last):\n",
      "  File \"C:\\Users\\jbvba\\AppData\\Roaming\\Python\\Python310\\site-packages\\IPython\\core\\interactiveshell.py\", line 2052, in showtraceback\n",
      "    stb = self.InteractiveTB.structured_traceback(\n",
      "  File \"C:\\Users\\jbvba\\AppData\\Roaming\\Python\\Python310\\site-packages\\IPython\\core\\ultratb.py\", line 1112, in structured_traceback\n",
      "    return FormattedTB.structured_traceback(\n",
      "  File \"C:\\Users\\jbvba\\AppData\\Roaming\\Python\\Python310\\site-packages\\IPython\\core\\ultratb.py\", line 1006, in structured_traceback\n",
      "    return VerboseTB.structured_traceback(\n",
      "  File \"C:\\Users\\jbvba\\AppData\\Roaming\\Python\\Python310\\site-packages\\IPython\\core\\ultratb.py\", line 859, in structured_traceback\n",
      "    formatted_exception = self.format_exception_as_a_whole(etype, evalue, etb, number_of_lines_of_context,\n",
      "  File \"C:\\Users\\jbvba\\AppData\\Roaming\\Python\\Python310\\site-packages\\IPython\\core\\ultratb.py\", line 812, in format_exception_as_a_whole\n",
      "    frames.append(self.format_record(r))\n",
      "  File \"C:\\Users\\jbvba\\AppData\\Roaming\\Python\\Python310\\site-packages\\IPython\\core\\ultratb.py\", line 730, in format_record\n",
      "    result += ''.join(_format_traceback_lines(frame_info.lines, Colors, self.has_colors, lvals))\n",
      "  File \"C:\\Users\\jbvba\\AppData\\Roaming\\Python\\Python310\\site-packages\\stack_data\\utils.py\", line 144, in cached_property_wrapper\n",
      "    value = obj.__dict__[self.func.__name__] = self.func(obj)\n",
      "  File \"C:\\Users\\jbvba\\AppData\\Roaming\\Python\\Python310\\site-packages\\stack_data\\core.py\", line 720, in lines\n",
      "    pieces = self.included_pieces\n",
      "  File \"C:\\Users\\jbvba\\AppData\\Roaming\\Python\\Python310\\site-packages\\stack_data\\utils.py\", line 144, in cached_property_wrapper\n",
      "    value = obj.__dict__[self.func.__name__] = self.func(obj)\n",
      "  File \"C:\\Users\\jbvba\\AppData\\Roaming\\Python\\Python310\\site-packages\\stack_data\\core.py\", line 667, in included_pieces\n",
      "    pos = scope_pieces.index(self.executing_piece)\n",
      "  File \"C:\\Users\\jbvba\\AppData\\Roaming\\Python\\Python310\\site-packages\\stack_data\\utils.py\", line 144, in cached_property_wrapper\n",
      "    value = obj.__dict__[self.func.__name__] = self.func(obj)\n",
      "  File \"C:\\Users\\jbvba\\AppData\\Roaming\\Python\\Python310\\site-packages\\stack_data\\core.py\", line 646, in executing_piece\n",
      "    return only(\n",
      "  File \"C:\\Users\\jbvba\\AppData\\Roaming\\Python\\Python310\\site-packages\\executing\\executing.py\", line 190, in only\n",
      "    raise NotOneValueFound('Expected one value, found 0')\n",
      "executing.executing.NotOneValueFound: Expected one value, found 0\n"
     ]
    }
   ],
   "source": [
    "cath.cath_resistance()"
   ]
  }
 ],
 "metadata": {
  "kernelspec": {
   "display_name": "rfbmodel-env",
   "language": "python",
   "name": "python3"
  },
  "language_info": {
   "codemirror_mode": {
    "name": "ipython",
    "version": 3
   },
   "file_extension": ".py",
   "mimetype": "text/x-python",
   "name": "python",
   "nbconvert_exporter": "python",
   "pygments_lexer": "ipython3",
   "version": "3.10.16"
  }
 },
 "nbformat": 4,
 "nbformat_minor": 5
}
