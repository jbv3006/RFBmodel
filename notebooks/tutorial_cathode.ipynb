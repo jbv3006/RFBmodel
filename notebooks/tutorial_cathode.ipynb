{
 "cells": [
  {
   "cell_type": "markdown",
   "id": "8d7efa92",
   "metadata": {},
   "source": [
    "Redox flow battery setup using `rfbmodel`"
   ]
  },
  {
   "cell_type": "code",
   "execution_count": 1,
   "id": "449d57d9",
   "metadata": {},
   "outputs": [
    {
     "name": "stdout",
     "output_type": "stream",
     "text": [
      "Processing c:\\users\\jbvba\\rfbmodelpc\\rfbmodel\n",
      "  Preparing metadata (setup.py): started\n",
      "  Preparing metadata (setup.py): finished with status 'done'\n",
      "Building wheels for collected packages: rfbmodel\n",
      "  Building wheel for rfbmodel (setup.py): started\n",
      "  Building wheel for rfbmodel (setup.py): finished with status 'done'\n",
      "  Created wheel for rfbmodel: filename=rfbmodel-0.1-py3-none-any.whl size=6493 sha256=6c4674486635039db23548d3e33a842bbd9105a5f358260ed9c8b50b2e0aed63\n",
      "  Stored in directory: C:\\Users\\jbvba\\AppData\\Local\\Temp\\pip-ephem-wheel-cache-czs24qyd\\wheels\\f5\\e2\\e6\\adaf62f013c25d2ed8d5494892f41e9f9fab1d4b2646ed6396\n",
      "Successfully built rfbmodel\n",
      "Installing collected packages: rfbmodel\n",
      "  Attempting uninstall: rfbmodel\n",
      "    Found existing installation: rfbmodel 0.1\n",
      "    Uninstalling rfbmodel-0.1:\n",
      "      Successfully uninstalled rfbmodel-0.1\n",
      "Successfully installed rfbmodel-0.1\n"
     ]
    },
    {
     "name": "stderr",
     "output_type": "stream",
     "text": [
      "  DEPRECATION: Building 'rfbmodel' using the legacy setup.py bdist_wheel mechanism, which will be removed in a future version. pip 25.3 will enforce this behaviour change. A possible replacement is to use the standardized build interface by setting the `--use-pep517` option, (possibly combined with `--no-build-isolation`), or adding a `pyproject.toml` file to the source tree of 'rfbmodel'. Discussion can be found at https://github.com/pypa/pip/issues/6334\n"
     ]
    }
   ],
   "source": [
    "# Change for your directory \n",
    "# Remember to pip install . after each change from the\n",
    "# rfbmodel directory\n",
    "#!pip install /home/felipe/RFBmodel/ \n",
    "!pip install \"C:/Users/jbvba/RFBmodelPC/RFBmodel\"\n"
   ]
  },
  {
   "cell_type": "markdown",
   "id": "6e984a9f",
   "metadata": {},
   "source": [
    "It is always advisable to check the code in a script before converting it into a class. For example, we will test the `conc` function from the cathode."
   ]
  },
  {
   "cell_type": "markdown",
   "id": "b25ada8b",
   "metadata": {},
   "source": [
    "Suggestion: use SciPy to solve the non linear system\n",
    "\n",
    "$$ f(\\vec{c}) = \\vec{b}$$\n",
    "\n",
    "Now this is implemented in the cathode class"
   ]
  },
  {
   "cell_type": "code",
   "execution_count": 2,
   "id": "e6efd1b5",
   "metadata": {},
   "outputs": [],
   "source": [
    "from rfbmodel.cathodes import Cathode\n",
    "from rfbmodel.cells import Cell\n",
    "from rfbmodel.agdl import AGDL\n",
    "from rfbmodel.acl import ACL\n",
    "from rfbmodel.data import conductivity_funcV5, conductivity_funcV4"
   ]
  },
  {
   "cell_type": "code",
   "execution_count": 3,
   "id": "af37d7ee",
   "metadata": {},
   "outputs": [
    {
     "name": "stdout",
     "output_type": "stream",
     "text": [
      "c_guess =  [1.   1.   1.   1.   2.   0.01]\n",
      "c =  [ 1.03000000e+00 -1.07292877e-10  1.02985342e+01  8.42961216e+00\n",
      "  1.96446103e+00  4.35151124e-01]\n"
     ]
    }
   ],
   "source": [
    "#Define design parameters for cathode\n",
    "\n",
    "cath_thickness = 50/1000 #Cathode thickness [m]\n",
    "cath_conductivity = 4400 #Conductivity of the cathode / sigma [S m^-1]\n",
    "cath_porosity = 0.94 #Cathode porosity (void fraction)\n",
    "\n",
    "# Construct a cathode\n",
    "cath = Cathode(cath_thickness, cath_conductivity, cath_porosity)\n",
    "\n",
    "# Print initial guess\n",
    "print(\"c_guess = \", cath.c)\n",
    "\n",
    "# Solve system of equations\n",
    "cath.conc()\n",
    "\n",
    "# Print solution\n",
    "print(\"c = \", cath.c)\n",
    "\n"
   ]
  },
  {
   "cell_type": "code",
   "execution_count": 4,
   "id": "e411d109",
   "metadata": {},
   "outputs": [
    {
     "name": "stdout",
     "output_type": "stream",
     "text": [
      "resistance of cathode =  0.0007731975198179214 Ωm2\n",
      "resistance of catholyte =  0.0017908546514708034 Ωm2\n",
      "Total resistance of cathode and catholyte =  0.000540037519663905 Ωm2\n"
     ]
    }
   ],
   "source": [
    "cath.ionic_resistance()\n",
    "cath.cathode_resistance()\n",
    "cath.total_resistance()\n",
    "\n",
    "# Print solution\n",
    "print(\"resistance of cathode = \", cath.cath_resistance, \"Ωm2\")\n",
    "print(\"resistance of catholyte = \", cath.io_resistance, \"Ωm2\")\n",
    "print(\"Total resistance of cathode and catholyte = \", cath.resistance, \"Ωm2\")\n"
   ]
  },
  {
   "cell_type": "markdown",
   "id": "c50afab7",
   "metadata": {},
   "source": [
    "AGDL Class"
   ]
  },
  {
   "cell_type": "code",
   "execution_count": null,
   "id": "825dc052",
   "metadata": {},
   "outputs": [
    {
     "name": "stdout",
     "output_type": "stream",
     "text": [
      "AGDL Resistance 4.972409010471659e-09 Ωm2\n"
     ]
    }
   ],
   "source": [
    "# Define design parameters for AGDL\n",
    "agdl_thickness = 171*10**(-6) #AGDL thickness [m] \n",
    "agdl_conductivity = 8700 # AGDL Conductivity[S m^−1]\n",
    "agdl_porosity = 0.6 #AGDL porosity (void fraction)\n",
    "\n",
    "# Construct a Anode Gas Diffusion Layer\n",
    "agdl = AGDL(agdl_thickness,agdl_conductivity,agdl_porosity)\n",
    "\n",
    "# Calculate AGDL resistance\n",
    "agdl.calculate_resistance()\n",
    "\n",
    "# Print solution\n",
    "print(\"AGDL Resistance\", agdl.resistance, \"Ωm2\")"
   ]
  },
  {
   "cell_type": "markdown",
   "id": "8db78b68",
   "metadata": {},
   "source": [
    "ACL Class"
   ]
  },
  {
   "cell_type": "code",
   "execution_count": null,
   "id": "f241b181",
   "metadata": {},
   "outputs": [
    {
     "name": "stdout",
     "output_type": "stream",
     "text": [
      "ACL Resistance 4.972409010471659e-09 Ωm2\n"
     ]
    }
   ],
   "source": [
    "# Define design parameters for ACL\n",
    "acl_thickness = 19/10**6 #Anode catalyst layer thickness [m]\n",
    "acl_conductivity= 240 #ACL electronic conductivity [S m^-1]\n",
    "acl_porosity = 0.4 #Anode catalyst layer porosity\n",
    "\n",
    "# Construct a Anode Catalyst Layer\n",
    "acl = ACL(acl_thickness, acl_conductivity, acl_porosity)\n",
    "\n",
    "# Calculate ACL resistance\n",
    "acl.calculate_resistance()\n",
    "\n",
    "# Print solution\n",
    "print(\"ACL Resistance\", agdl.resistance, \"Ωm2\")"
   ]
  },
  {
   "cell_type": "markdown",
   "id": "c5458760",
   "metadata": {},
   "source": [
    "Cell Class"
   ]
  },
  {
   "cell_type": "code",
   "execution_count": null,
   "id": "fded3502",
   "metadata": {},
   "outputs": [
    {
     "name": "stdout",
     "output_type": "stream",
     "text": [
      "Formal Cell Potential 0.9868476965331399 V at 305.15 Kelvin\n",
      "HFR is 0.00048148596397645 omega m^2\n"
     ]
    }
   ],
   "source": [
    "#Construct a plain dictionary for Standard Cell Potential and Standard Entropy of the reaction\n",
    "reaction_props1 = {\n",
    "    'E_SCP': 0.99,     # Standard Cell Potential of reaction [V]\n",
    "    'delta_S_r': -86.9   # Standard Entropy of the cell discharge reaction [J/mol/K]\n",
    "}\n",
    "\n",
    "#Define operation parameters for the cell\n",
    "T1 = 305.15 #Cell temperature [K]\n",
    "SOC1 = 0.5 #State of charge {0,1}\n",
    "Q_v1 = 45 #Catholyte flow rate [mL/min]\n",
    "j_appl1 = 1000 #Current density [A/m^2]\n",
    "\n",
    "# Construct a Cell \n",
    "### `Cell(cathode, membrane, acl, agdl, T, SOC, Q_v, j_appl, reaction_props)`\n",
    "cell=Cell(cathode = cath , membrane = None, acl = acl, agdl = agdl, T = T1, SOC = SOC1, Q_v = Q_v1, j_appl = j_appl1, reaction_props = reaction_props1)\n",
    "\n",
    "#Method for the formal cell potential, dependent on temperature\n",
    "E0_cell=cell.E0_cell()\n",
    "print(\"Formal Cell Potential\", E0_cell, \"V at\", cell.T, \"Kelvin\")\n",
    "\n",
    "#Calculates total cell voltage based on: Open circuit potential, Membrane ohmic loss, Cathode overpotential, \n",
    "# Anode overpotential, Protonic transport in ACL - NOT READY YET\n",
    "#E_cell=cell.E_cell()\n",
    "#print(\"Cell Potential\", E_cell, \"V, on\", cell.T, \"Kelvin\")\n",
    "\n",
    "#Method for the high frequency resistance, which accounts for the electronic and ionic resistance of the cathode, catholyte, ACL, AGDL, \n",
    "# membrane, current collector and bipolar plates\n",
    "R_HFR=cell.R_HFR()\n",
    "print(\"HFR is\", R_HFR, \"omega m^2\")\n"
   ]
  }
 ],
 "metadata": {
  "kernelspec": {
   "display_name": "rfbmodel-env",
   "language": "python",
   "name": "python3"
  },
  "language_info": {
   "codemirror_mode": {
    "name": "ipython",
    "version": 3
   },
   "file_extension": ".py",
   "mimetype": "text/x-python",
   "name": "python",
   "nbconvert_exporter": "python",
   "pygments_lexer": "ipython3",
   "version": "3.10.16"
  }
 },
 "nbformat": 4,
 "nbformat_minor": 5
}
